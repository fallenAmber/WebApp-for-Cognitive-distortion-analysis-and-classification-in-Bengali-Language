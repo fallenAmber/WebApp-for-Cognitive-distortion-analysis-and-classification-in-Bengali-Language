{
 "cells": [
  {
   "cell_type": "code",
   "execution_count": 1,
   "id": "ec7d4f4f",
   "metadata": {},
   "outputs": [],
   "source": [
    "import pandas as pd\n",
    "import numpy as np\n",
    "import re\n",
    "from indicnlp.tokenize import sentence_tokenize, indic_tokenize\n",
    "from keras.preprocessing.text import Tokenizer\n",
    "from keras.preprocessing.sequence import pad_sequences\n",
    "from sklearn.model_selection import train_test_split\n",
    "from keras.models import Sequential\n",
    "from keras.layers import Embedding, LSTM, Dense"
   ]
  },
  {
   "cell_type": "code",
   "execution_count": 2,
   "id": "f2498f15",
   "metadata": {},
   "outputs": [],
   "source": [
    "# Load the dataset from the CSV file\n",
    "csv_file_path = 'Emotional reasoning.csv' \n",
    "df = pd.read_csv(csv_file_path)"
   ]
  },
  {
   "cell_type": "code",
   "execution_count": 3,
   "id": "dee51761",
   "metadata": {},
   "outputs": [],
   "source": [
    "# Handling missing values: Replace NaN with an empty string for comments\n",
    "df['comments'] = df['Comments'].fillna('')"
   ]
  },
  {
   "cell_type": "code",
   "execution_count": 4,
   "id": "da2e4d0d",
   "metadata": {},
   "outputs": [],
   "source": [
    "# Preprocess Bengali text\n",
    "bengali_comments = []\n",
    "for comment in df['comments']:\n",
    "    # Check if the comment is a string or bytes-like object\n",
    "    if isinstance(comment, (str, bytes)):\n",
    "        sentences = sentence_tokenize.sentence_split(comment, lang='bn')\n",
    "        words_list = []\n",
    "        for sentence in sentences:\n",
    "            words = indic_tokenize.trivial_tokenize(sentence, lang='bn')\n",
    "            words_list.extend(words)\n",
    "        bengali_comments.append(' '.join(words_list))"
   ]
  },
  {
   "cell_type": "code",
   "execution_count": 5,
   "id": "81121d94",
   "metadata": {},
   "outputs": [],
   "source": [
    "# Remove special characters and numbers\n",
    "bengali_comments = [re.sub(r'[^ঀ-৾\\s]', '', comment) for comment in bengali_comments]"
   ]
  },
  {
   "cell_type": "code",
   "execution_count": 6,
   "id": "38fefe82",
   "metadata": {},
   "outputs": [],
   "source": [
    "# Map the 'yes' and 'no' labels to binary values (1 and 0)\n",
    "label_mapping = {'yes': 1, 'no': 0}\n",
    "labels = [label_mapping[label.lower()] for label in df['label']]"
   ]
  },
  {
   "cell_type": "code",
   "execution_count": 7,
   "id": "1ca16c07",
   "metadata": {},
   "outputs": [],
   "source": [
    "# Convert the labels to a NumPy array\n",
    "encoded_labels = np.array(labels)"
   ]
  },
  {
   "cell_type": "code",
   "execution_count": 8,
   "id": "2625ce99",
   "metadata": {},
   "outputs": [],
   "source": [
    "# Initialize the Tokenizer\n",
    "tokenizer = Tokenizer()"
   ]
  },
  {
   "cell_type": "code",
   "execution_count": 9,
   "id": "e4eda0e0",
   "metadata": {},
   "outputs": [],
   "source": [
    "# Fit the tokenizer on the comments to create a word-to-index dictionary\n",
    "tokenizer.fit_on_texts(bengali_comments)"
   ]
  },
  {
   "cell_type": "code",
   "execution_count": 10,
   "id": "d8ea45fa",
   "metadata": {},
   "outputs": [],
   "source": [
    "# Convert the comments to sequences of integers\n",
    "sequences = tokenizer.texts_to_sequences(bengali_comments)"
   ]
  },
  {
   "cell_type": "code",
   "execution_count": 11,
   "id": "feb5065d",
   "metadata": {},
   "outputs": [],
   "source": [
    "# Vocabulary size \n",
    "vocab_size = len(tokenizer.word_index) + 1"
   ]
  },
  {
   "cell_type": "code",
   "execution_count": 12,
   "id": "6c864360",
   "metadata": {},
   "outputs": [],
   "source": [
    "# Save the word-to-index dictionary to a .npy file\n",
    "word_index_file_path = 'C:\\\\Users\\\\HP\\\\Desktop\\\\Nabil Masters research final work\\\\Models\\\\Emotional reasoning_index.npy'\n",
    "np.save(word_index_file_path, tokenizer.word_index)"
   ]
  },
  {
   "cell_type": "code",
   "execution_count": 13,
   "id": "71aa3493",
   "metadata": {},
   "outputs": [],
   "source": [
    "# Maximum sequence length \n",
    "max_sequence_length = 300"
   ]
  },
  {
   "cell_type": "code",
   "execution_count": 14,
   "id": "d3bf91b2",
   "metadata": {},
   "outputs": [],
   "source": [
    "# Pad the sequences to make them of equal length\n",
    "padded_sequences = pad_sequences(sequences, maxlen=max_sequence_length)"
   ]
  },
  {
   "cell_type": "code",
   "execution_count": 15,
   "id": "20b3b5e8",
   "metadata": {},
   "outputs": [],
   "source": [
    "# Split the data into training and testing sets\n",
    "X_train, X_test, y_train, y_test = train_test_split(padded_sequences, encoded_labels, test_size=0.2, random_state=42)"
   ]
  },
  {
   "cell_type": "code",
   "execution_count": 16,
   "id": "7ef9dfbe",
   "metadata": {},
   "outputs": [],
   "source": [
    "# Build the RNN Model\n",
    "model = Sequential()\n",
    "embedding_dim = 200\n",
    "model.add(Embedding(input_dim=vocab_size, output_dim=embedding_dim, input_length=max_sequence_length))\n",
    "lstm_units = 64\n",
    "model.add(LSTM(units=lstm_units))\n",
    "model.add(Dense(units=1, activation='sigmoid'))\n",
    "model.compile(optimizer='adam', loss='binary_crossentropy', metrics=['accuracy'])"
   ]
  },
  {
   "cell_type": "code",
   "execution_count": 17,
   "id": "c8e25f94",
   "metadata": {},
   "outputs": [
    {
     "name": "stdout",
     "output_type": "stream",
     "text": [
      "Epoch 1/15\n",
      "110/110 [==============================] - 90s 762ms/step - loss: 0.3356 - accuracy: 0.8909 - val_loss: 0.2537 - val_accuracy: 0.9134\n",
      "Epoch 2/15\n",
      "110/110 [==============================] - 96s 871ms/step - loss: 0.1681 - accuracy: 0.9319 - val_loss: 0.2966 - val_accuracy: 0.8964\n",
      "Epoch 3/15\n",
      "110/110 [==============================] - 103s 939ms/step - loss: 0.0456 - accuracy: 0.9863 - val_loss: 0.4222 - val_accuracy: 0.8895\n",
      "Epoch 4/15\n",
      "110/110 [==============================] - 96s 871ms/step - loss: 0.0146 - accuracy: 0.9963 - val_loss: 0.5061 - val_accuracy: 0.8850\n",
      "Epoch 5/15\n",
      "110/110 [==============================] - 77s 700ms/step - loss: 0.0080 - accuracy: 0.9989 - val_loss: 0.5465 - val_accuracy: 0.8986\n",
      "Epoch 6/15\n",
      "110/110 [==============================] - 72s 658ms/step - loss: 0.0038 - accuracy: 0.9994 - val_loss: 0.6634 - val_accuracy: 0.8804\n",
      "Epoch 7/15\n",
      "110/110 [==============================] - 71s 648ms/step - loss: 0.0059 - accuracy: 0.9986 - val_loss: 0.5587 - val_accuracy: 0.8895\n",
      "Epoch 8/15\n",
      "110/110 [==============================] - 73s 666ms/step - loss: 0.0040 - accuracy: 0.9994 - val_loss: 0.6482 - val_accuracy: 0.8850\n",
      "Epoch 9/15\n",
      "110/110 [==============================] - 70s 633ms/step - loss: 0.0045 - accuracy: 0.9991 - val_loss: 0.6047 - val_accuracy: 0.8759\n",
      "Epoch 10/15\n",
      "110/110 [==============================] - 75s 686ms/step - loss: 0.0032 - accuracy: 0.9994 - val_loss: 0.6898 - val_accuracy: 0.8929\n",
      "Epoch 11/15\n",
      "110/110 [==============================] - 73s 665ms/step - loss: 0.0031 - accuracy: 0.9991 - val_loss: 0.7073 - val_accuracy: 0.8679\n",
      "Epoch 12/15\n",
      "110/110 [==============================] - 77s 697ms/step - loss: 0.0026 - accuracy: 0.9994 - val_loss: 0.6870 - val_accuracy: 0.8804\n",
      "Epoch 13/15\n",
      "110/110 [==============================] - 77s 700ms/step - loss: 0.0026 - accuracy: 0.9994 - val_loss: 0.7824 - val_accuracy: 0.8656\n",
      "Epoch 14/15\n",
      "110/110 [==============================] - 74s 672ms/step - loss: 0.0026 - accuracy: 0.9994 - val_loss: 0.5815 - val_accuracy: 0.8941\n",
      "Epoch 15/15\n",
      "110/110 [==============================] - 84s 765ms/step - loss: 0.0080 - accuracy: 0.9977 - val_loss: 0.5617 - val_accuracy: 0.8838\n"
     ]
    },
    {
     "data": {
      "text/plain": [
       "<keras.src.callbacks.History at 0x203820b0790>"
      ]
     },
     "execution_count": 17,
     "metadata": {},
     "output_type": "execute_result"
    }
   ],
   "source": [
    "# Train the Model\n",
    "epochs = 15  # Choose the number of training epochs\n",
    "batch_size = 32  # Choose the batch size\n",
    "model.fit(X_train, y_train, epochs=epochs, batch_size=batch_size, validation_data=(X_test, y_test))"
   ]
  },
  {
   "cell_type": "code",
   "execution_count": 18,
   "id": "a605572c",
   "metadata": {},
   "outputs": [
    {
     "name": "stderr",
     "output_type": "stream",
     "text": [
      "C:\\Users\\HP\\AppData\\Roaming\\Python\\Python310\\site-packages\\keras\\src\\engine\\training.py:3000: UserWarning: You are saving your model as an HDF5 file via `model.save()`. This file format is considered legacy. We recommend using instead the native Keras format, e.g. `model.save('my_model.keras')`.\n",
      "  saving_api.save_model(\n"
     ]
    }
   ],
   "source": [
    "# Save the Model\n",
    "model.save('C:\\\\Users\\\\HP\\\\Desktop\\\\Nabil Masters research final work\\\\Models\\\\Emotional reasoning_model.h5')"
   ]
  },
  {
   "cell_type": "code",
   "execution_count": 19,
   "id": "1271c51b",
   "metadata": {},
   "outputs": [
    {
     "name": "stdout",
     "output_type": "stream",
     "text": [
      "28/28 [==============================] - 2s 65ms/step - loss: 0.6395 - accuracy: 0.8633\n",
      "Test loss: 0.6394666433334351\n",
      "Test accuracy: 0.8633257150650024\n"
     ]
    }
   ],
   "source": [
    "# Evaluate the Model\n",
    "loss, accuracy = model.evaluate(X_test, y_test)\n",
    "print(\"Test loss:\", loss)\n",
    "print(\"Test accuracy:\", accuracy)"
   ]
  },
  {
   "cell_type": "code",
   "execution_count": 20,
   "id": "3930219d",
   "metadata": {
    "scrolled": true
   },
   "outputs": [
    {
     "name": "stdout",
     "output_type": "stream",
     "text": [
      "28/28 [==============================] - 2s 63ms/step\n",
      "Performance Metrics:\n",
      "Accuracy: 0.86\n",
      "Precision: 0.21\n",
      "Recall: 0.21\n",
      "F1-Score: 0.21\n",
      "ROC-AUC: 0.71\n"
     ]
    }
   ],
   "source": [
    "from sklearn.metrics import accuracy_score, precision_score, recall_score, f1_score, roc_auc_score\n",
    "from sklearn.metrics import roc_curve, auc\n",
    "import matplotlib.pyplot as plt\n",
    "\n",
    "# Evaluate the Model\n",
    "y_pred = model.predict(X_test)\n",
    "y_pred_binary = (y_pred > 0.5).astype(int)  # Convert probabilities to binary predictions\n",
    "\n",
    "\n",
    "# Performance Metrics\n",
    "accuracy = accuracy_score(y_test, y_pred_binary)\n",
    "precision = precision_score(y_test, y_pred_binary)\n",
    "recall = recall_score(y_test, y_pred_binary)\n",
    "f1 = f1_score(y_test, y_pred_binary)\n",
    "roc_auc = roc_auc_score(y_test, y_pred)\n",
    "\n",
    "# Presentation of Results\n",
    "print(\"Performance Metrics:\")\n",
    "print(f\"Accuracy: {accuracy:.2f}\")\n",
    "print(f\"Precision: {precision:.2f}\")\n",
    "print(f\"Recall: {recall:.2f}\")\n",
    "print(f\"F1-Score: {f1:.2f}\")\n",
    "print(f\"ROC-AUC: {roc_auc:.2f}\")"
   ]
  },
  {
   "cell_type": "code",
   "execution_count": 21,
   "id": "7ff346a6",
   "metadata": {},
   "outputs": [
    {
     "data": {
      "image/png": "[encoded data removed]",
      "text/plain": [
       "<Figure size 640x480 with 1 Axes>"
      ]
     },
     "metadata": {},
     "output_type": "display_data"
    }
   ],
   "source": [
    "# Graphical Representation (ROC Curve)\n",
    "fpr, tpr, _ = roc_curve(y_test, y_pred)\n",
    "roc_auc = auc(fpr, tpr)\n",
    "\n",
    "plt.figure()\n",
    "plt.plot(fpr, tpr, color='darkorange', lw=2, label='ROC curve (area = %0.2f)' % roc_auc)\n",
    "plt.plot([0, 1], [0, 1], color='navy', lw=2, linestyle='--')\n",
    "plt.xlim([0.0, 1.0])\n",
    "plt.ylim([0.0, 1.05])\n",
    "plt.xlabel('False Positive Rate')\n",
    "plt.ylabel('True Positive Rate')\n",
    "plt.title('Receiver Operating Characteristic')\n",
    "plt.legend(loc=\"lower right\")\n",
    "plt.show()"
   ]
  },
  {
   "cell_type": "code",
   "execution_count": null,
   "id": "a8e33c90",
   "metadata": {},
   "outputs": [],
   "source": []
  }
 ],
 "metadata": {
  "kernelspec": {
   "display_name": "Python 3 (ipykernel)",
   "language": "python",
   "name": "python3"
  },
  "language_info": {
   "codemirror_mode": {
    "name": "ipython",
    "version": 3
   },
   "file_extension": ".py",
   "mimetype": "text/x-python",
   "name": "python",
   "nbconvert_exporter": "python",
   "pygments_lexer": "ipython3",
   "version": "3.10.9"
  }
 },
 "nbformat": 4,
 "nbformat_minor": 5
}
