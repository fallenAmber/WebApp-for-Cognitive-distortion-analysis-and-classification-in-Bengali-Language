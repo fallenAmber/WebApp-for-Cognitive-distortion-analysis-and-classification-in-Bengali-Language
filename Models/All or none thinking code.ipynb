{
 "cells": [
  {
   "cell_type": "code",
   "execution_count": 41,
   "id": "ec7d4f4f",
   "metadata": {},
   "outputs": [],
   "source": [
    "import pandas as pd\n",
    "import numpy as np\n",
    "import re\n",
    "from indicnlp.tokenize import sentence_tokenize, indic_tokenize\n",
    "from keras.preprocessing.text import Tokenizer\n",
    "from keras.preprocessing.sequence import pad_sequences\n",
    "from sklearn.model_selection import train_test_split\n",
    "from keras.models import Sequential\n",
    "from keras.layers import Embedding, LSTM, Dense"
   ]
  },
  {
   "cell_type": "code",
   "execution_count": 42,
   "id": "f2498f15",
   "metadata": {},
   "outputs": [],
   "source": [
    "# Load the dataset from the CSV file\n",
    "csv_file_path = 'All or none thinking.csv' \n",
    "df = pd.read_csv(csv_file_path)"
   ]
  },
  {
   "cell_type": "code",
   "execution_count": 43,
   "id": "dee51761",
   "metadata": {},
   "outputs": [],
   "source": [
    "# Handling missing values: Replace NaN with an empty string for comments\n",
    "df['comments'] = df['Comments'].fillna('')"
   ]
  },
  {
   "cell_type": "code",
   "execution_count": 44,
   "id": "da2e4d0d",
   "metadata": {},
   "outputs": [],
   "source": [
    "# Preprocess Bengali text\n",
    "bengali_comments = []\n",
    "for comment in df['comments']:\n",
    "    # Check if the comment is a string or bytes-like object\n",
    "    if isinstance(comment, (str, bytes)):\n",
    "        sentences = sentence_tokenize.sentence_split(comment, lang='bn')\n",
    "        words_list = []\n",
    "        for sentence in sentences:\n",
    "            words = indic_tokenize.trivial_tokenize(sentence, lang='bn')\n",
    "            words_list.extend(words)\n",
    "        bengali_comments.append(' '.join(words_list))"
   ]
  },
  {
   "cell_type": "code",
   "execution_count": 45,
   "id": "81121d94",
   "metadata": {},
   "outputs": [],
   "source": [
    "# Remove special characters and numbers\n",
    "bengali_comments = [re.sub(r'[^ঀ-৾\\s]', '', comment) for comment in bengali_comments]"
   ]
  },
  {
   "cell_type": "code",
   "execution_count": 46,
   "id": "38fefe82",
   "metadata": {},
   "outputs": [],
   "source": [
    "# Map the 'yes' and 'no' labels to binary values (1 and 0)\n",
    "label_mapping = {'yes': 1, 'no': 0}\n",
    "labels = [label_mapping[label.lower()] for label in df['label']]"
   ]
  },
  {
   "cell_type": "code",
   "execution_count": 47,
   "id": "1ca16c07",
   "metadata": {},
   "outputs": [],
   "source": [
    "# Convert the labels to a NumPy array\n",
    "encoded_labels = np.array(labels)"
   ]
  },
  {
   "cell_type": "code",
   "execution_count": 48,
   "id": "2625ce99",
   "metadata": {},
   "outputs": [],
   "source": [
    "# Initialize the Tokenizer\n",
    "tokenizer = Tokenizer()"
   ]
  },
  {
   "cell_type": "code",
   "execution_count": 49,
   "id": "e4eda0e0",
   "metadata": {},
   "outputs": [],
   "source": [
    "# Fit the tokenizer on the comments to create a word-to-index dictionary\n",
    "tokenizer.fit_on_texts(bengali_comments)"
   ]
  },
  {
   "cell_type": "code",
   "execution_count": 50,
   "id": "d8ea45fa",
   "metadata": {},
   "outputs": [],
   "source": [
    "# Convert the comments to sequences of integers\n",
    "sequences = tokenizer.texts_to_sequences(bengali_comments)"
   ]
  },
  {
   "cell_type": "code",
   "execution_count": 51,
   "id": "feb5065d",
   "metadata": {},
   "outputs": [],
   "source": [
    "# Vocabulary size \n",
    "vocab_size = len(tokenizer.word_index) + 1"
   ]
  },
  {
   "cell_type": "code",
   "execution_count": 52,
   "id": "6c864360",
   "metadata": {},
   "outputs": [],
   "source": [
    "# Save the word-to-index dictionary to a .npy file\n",
    "word_index_file_path = 'C:\\\\Users\\\\Asim Nabil\\\\Desktop\\\\Nabil Masters research final work\\\\Models\\\\All or none thinking_word_index.npy'\n",
    "np.save(word_index_file_path, tokenizer.word_index)"
   ]
  },
  {
   "cell_type": "code",
   "execution_count": 53,
   "id": "71aa3493",
   "metadata": {},
   "outputs": [],
   "source": [
    "# Maximum sequence length \n",
    "max_sequence_length = 300"
   ]
  },
  {
   "cell_type": "code",
   "execution_count": 54,
   "id": "d3bf91b2",
   "metadata": {},
   "outputs": [],
   "source": [
    "# Pad the sequences to make them of equal length\n",
    "padded_sequences = pad_sequences(sequences, maxlen=max_sequence_length)"
   ]
  },
  {
   "cell_type": "code",
   "execution_count": 1,
   "id": "20b3b5e8",
   "metadata": {
    "collapsed": true
   },
   "outputs": [
    {
     "ename": "NameError",
     "evalue": "name 'train_test_split' is not defined",
     "output_type": "error",
     "traceback": [
      "\u001b[1;31m---------------------------------------------------------------------------\u001b[0m",
      "\u001b[1;31mNameError\u001b[0m                                 Traceback (most recent call last)",
      "Cell \u001b[1;32mIn[1], line 2\u001b[0m\n\u001b[0;32m      1\u001b[0m \u001b[38;5;66;03m# Split the data into training and testing sets\u001b[39;00m\n\u001b[1;32m----> 2\u001b[0m X_train, X_test, y_train, y_test \u001b[38;5;241m=\u001b[39m \u001b[43mtrain_test_split\u001b[49m(padded_sequences, encoded_labels, test_size\u001b[38;5;241m=\u001b[39m\u001b[38;5;241m0.2\u001b[39m, random_state\u001b[38;5;241m=\u001b[39m\u001b[38;5;241m42\u001b[39m)\n",
      "\u001b[1;31mNameError\u001b[0m: name 'train_test_split' is not defined"
     ]
    }
   ],
   "source": [
    "# Split the data into training and testing sets\n",
    "X_train, X_test, y_train, y_test = train_test_split(padded_sequences, encoded_labels, test_size=0.2, random_state=42)"
   ]
  },
  {
   "cell_type": "code",
   "execution_count": 56,
   "id": "7ef9dfbe",
   "metadata": {},
   "outputs": [],
   "source": [
    "# Build the RNN Model\n",
    "model = Sequential()\n",
    "embedding_dim = 200\n",
    "model.add(Embedding(input_dim=vocab_size, output_dim=embedding_dim, input_length=max_sequence_length))\n",
    "lstm_units = 64\n",
    "model.add(LSTM(units=lstm_units))\n",
    "model.add(Dense(units=1, activation='sigmoid'))\n",
    "model.compile(optimizer='adam', loss='binary_crossentropy', metrics=['accuracy'])"
   ]
  },
  {
   "cell_type": "code",
   "execution_count": 57,
   "id": "c8e25f94",
   "metadata": {},
   "outputs": [
    {
     "name": "stdout",
     "output_type": "stream",
     "text": [
      "Epoch 1/15\n",
      "110/110 [==============================] - 27s 218ms/step - loss: 0.3474 - accuracy: 0.8994 - val_loss: 0.3218 - val_accuracy: 0.8952\n",
      "Epoch 2/15\n",
      "110/110 [==============================] - 25s 231ms/step - loss: 0.2377 - accuracy: 0.9103 - val_loss: 0.2868 - val_accuracy: 0.8964\n",
      "Epoch 3/15\n",
      "110/110 [==============================] - 27s 249ms/step - loss: 0.0891 - accuracy: 0.9664 - val_loss: 0.3829 - val_accuracy: 0.8793\n",
      "Epoch 4/15\n",
      "110/110 [==============================] - 28s 255ms/step - loss: 0.0353 - accuracy: 0.9895 - val_loss: 0.4595 - val_accuracy: 0.8872\n",
      "Epoch 5/15\n",
      "110/110 [==============================] - 27s 246ms/step - loss: 0.0205 - accuracy: 0.9934 - val_loss: 0.5061 - val_accuracy: 0.8667\n",
      "Epoch 6/15\n",
      "110/110 [==============================] - 26s 239ms/step - loss: 0.0143 - accuracy: 0.9963 - val_loss: 0.5576 - val_accuracy: 0.8986\n",
      "Epoch 7/15\n",
      "110/110 [==============================] - 26s 240ms/step - loss: 0.0160 - accuracy: 0.9960 - val_loss: 0.5319 - val_accuracy: 0.8793\n",
      "Epoch 8/15\n",
      "110/110 [==============================] - 26s 237ms/step - loss: 0.0104 - accuracy: 0.9966 - val_loss: 0.5453 - val_accuracy: 0.8793\n",
      "Epoch 9/15\n",
      "110/110 [==============================] - 26s 240ms/step - loss: 0.0093 - accuracy: 0.9969 - val_loss: 0.5784 - val_accuracy: 0.8610\n",
      "Epoch 10/15\n",
      "110/110 [==============================] - 27s 243ms/step - loss: 0.0079 - accuracy: 0.9966 - val_loss: 0.6653 - val_accuracy: 0.8451\n",
      "Epoch 11/15\n",
      "110/110 [==============================] - 26s 238ms/step - loss: 0.0076 - accuracy: 0.9974 - val_loss: 0.6074 - val_accuracy: 0.8633\n",
      "Epoch 12/15\n",
      "110/110 [==============================] - 26s 237ms/step - loss: 0.0063 - accuracy: 0.9972 - val_loss: 0.6554 - val_accuracy: 0.8656\n",
      "Epoch 13/15\n",
      "110/110 [==============================] - 27s 242ms/step - loss: 0.0068 - accuracy: 0.9969 - val_loss: 0.7006 - val_accuracy: 0.8542\n",
      "Epoch 14/15\n",
      "110/110 [==============================] - 26s 236ms/step - loss: 0.0055 - accuracy: 0.9972 - val_loss: 0.7671 - val_accuracy: 0.8531\n",
      "Epoch 15/15\n",
      "110/110 [==============================] - 27s 242ms/step - loss: 0.0050 - accuracy: 0.9969 - val_loss: 0.7476 - val_accuracy: 0.8508\n"
     ]
    },
    {
     "data": {
      "text/plain": [
       "<keras.src.callbacks.History at 0x12e329f55a0>"
      ]
     },
     "execution_count": 57,
     "metadata": {},
     "output_type": "execute_result"
    }
   ],
   "source": [
    "# Train the Model\n",
    "epochs = 15  # Choose the number of training epochs\n",
    "batch_size = 32  # Choose the batch size\n",
    "model.fit(X_train, y_train, epochs=epochs, batch_size=batch_size, validation_data=(X_test, y_test))"
   ]
  },
  {
   "cell_type": "code",
   "execution_count": 63,
   "id": "a605572c",
   "metadata": {},
   "outputs": [
    {
     "name": "stderr",
     "output_type": "stream",
     "text": [
      "D:\\Program file\\lib\\site-packages\\keras\\src\\engine\\training.py:3079: UserWarning: You are saving your model as an HDF5 file via `model.save()`. This file format is considered legacy. We recommend using instead the native Keras format, e.g. `model.save('my_model.keras')`.\n",
      "  saving_api.save_model(\n"
     ]
    }
   ],
   "source": [
    "# Save the Entire Model\n",
    "model.save('C:\\\\Users\\\\Asim Nabil\\\\Desktop\\\\Nabil Masters research final work\\\\Models\\\\All or none thinking_model.h5')"
   ]
  },
  {
   "cell_type": "code",
   "execution_count": 59,
   "id": "1271c51b",
   "metadata": {},
   "outputs": [
    {
     "name": "stdout",
     "output_type": "stream",
     "text": [
      "28/28 [==============================] - 2s 67ms/step - loss: 0.7476 - accuracy: 0.8508\n",
      "Test loss: 0.7476024031639099\n",
      "Test accuracy: 0.8507972955703735\n"
     ]
    }
   ],
   "source": [
    "# Evaluate the Model\n",
    "loss, accuracy = model.evaluate(X_test, y_test)\n",
    "print(\"Test loss:\", loss)\n",
    "print(\"Test accuracy:\", accuracy)"
   ]
  },
  {
   "cell_type": "code",
   "execution_count": 60,
   "id": "3930219d",
   "metadata": {
    "scrolled": true
   },
   "outputs": [
    {
     "name": "stdout",
     "output_type": "stream",
     "text": [
      "28/28 [==============================] - 3s 86ms/step\n",
      "Performance Metrics:\n",
      "Accuracy: 0.85\n",
      "Precision: 0.29\n",
      "Recall: 0.30\n",
      "F1-Score: 0.30\n",
      "ROC-AUC: 0.72\n"
     ]
    }
   ],
   "source": [
    "from sklearn.metrics import accuracy_score, precision_score, recall_score, f1_score, roc_auc_score\n",
    "from sklearn.metrics import roc_curve, auc\n",
    "import matplotlib.pyplot as plt\n",
    "\n",
    "# Evaluate the Model\n",
    "y_pred = model.predict(X_test)\n",
    "y_pred_binary = (y_pred > 0.5).astype(int)\n",
    "\n",
    "\n",
    "# Performance Metrics\n",
    "accuracy = accuracy_score(y_test, y_pred_binary)\n",
    "precision = precision_score(y_test, y_pred_binary)\n",
    "recall = recall_score(y_test, y_pred_binary)\n",
    "f1 = f1_score(y_test, y_pred_binary)\n",
    "roc_auc = roc_auc_score(y_test, y_pred)\n",
    "\n",
    "\n",
    "print(\"Performance Metrics:\")\n",
    "print(f\"Accuracy: {accuracy:.2f}\")\n",
    "print(f\"Precision: {precision:.2f}\")\n",
    "print(f\"Recall: {recall:.2f}\")\n",
    "print(f\"F1-Score: {f1:.2f}\")\n",
    "print(f\"ROC-AUC: {roc_auc:.2f}\")"
   ]
  },
  {
   "cell_type": "code",
   "execution_count": 62,
   "id": "7ff346a6",
   "metadata": {},
   "outputs": [
    {
     "data": {
      "image/png": "[encoded data removed]",
      "text/plain": [
       "<Figure size 640x480 with 1 Axes>"
      ]
     },
     "metadata": {},
     "output_type": "display_data"
    }
   ],
   "source": [
    "# Graphical Representation (ROC Curve)\n",
    "fpr, tpr, _ = roc_curve(y_test, y_pred)\n",
    "roc_auc = auc(fpr, tpr)\n",
    "\n",
    "plt.figure()\n",
    "plt.plot(fpr, tpr, color='darkorange', lw=2, label='ROC curve (area = %0.2f)' % roc_auc)\n",
    "plt.plot([0, 1], [0, 1], color='navy', lw=2, linestyle='--')\n",
    "plt.xlim([0.0, 1.0])\n",
    "plt.ylim([0.0, 1.05])\n",
    "plt.xlabel('False Positive Rate')\n",
    "plt.ylabel('True Positive Rate')\n",
    "plt.title('Receiver Operating Characteristic')\n",
    "plt.legend(loc=\"lower right\")\n",
    "plt.show()"
   ]
  },
  {
   "cell_type": "code",
   "execution_count": null,
   "id": "a8e33c90",
   "metadata": {},
   "outputs": [],
   "source": []
  }
 ],
 "metadata": {
  "kernelspec": {
   "display_name": "Python 3 (ipykernel)",
   "language": "python",
   "name": "python3"
  },
  "language_info": {
   "codemirror_mode": {
    "name": "ipython",
    "version": 3
   },
   "file_extension": ".py",
   "mimetype": "text/x-python",
   "name": "python",
   "nbconvert_exporter": "python",
   "pygments_lexer": "ipython3",
   "version": "3.10.9"
  }
 },
 "nbformat": 4,
 "nbformat_minor": 5
}
